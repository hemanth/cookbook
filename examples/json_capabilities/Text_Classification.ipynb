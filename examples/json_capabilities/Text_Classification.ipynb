{
  "cells": [
    {
      "cell_type": "markdown",
      "metadata": {
        "id": "KLHiTPXNTf2a"
      },
      "source": [
        "##### Copyright 2024 Google LLC."
      ]
    },
    {
      "cell_type": "code",
      "execution_count": 1,
      "metadata": {
        "cellView": "form",
        "id": "oTuT5CsaTigz"
      },
      "outputs": [],
      "source": [
        "# @title Licensed under the Apache License, Version 2.0 (the \"License\");\n",
        "# you may not use this file except in compliance with the License.\n",
        "# You may obtain a copy of the License at\n",
        "#\n",
        "# https://www.apache.org/licenses/LICENSE-2.0\n",
        "#\n",
        "# Unless required by applicable law or agreed to in writing, software\n",
        "# distributed under the License is distributed on an \"AS IS\" BASIS,\n",
        "# WITHOUT WARRANTIES OR CONDITIONS OF ANY KIND, either express or implied.\n",
        "# See the License for the specific language governing permissions and\n",
        "# limitations under the License."
      ]
    },
    {
      "cell_type": "markdown",
      "metadata": {
        "id": "sP8PQnz1QrcF"
      },
      "source": [
        "# Gemini API: Text Classification"
      ]
    },
    {
      "cell_type": "markdown",
      "metadata": {
        "id": "bxGr_x3MRA0z"
      },
      "source": [
        "<table class=\"tfo-notebook-buttons\" align=\"left\">\n",
        "  <td>\n",
        "    <a target=\"_blank\" href=\"https://colab.research.google.com/github/google-gemini/cookbook/blob/main/examples/json_capabilities/Text_Classification.ipynb\"><img src = \"https://www.tensorflow.org/images/colab_logo_32px.png\"/>Run in Google Colab</a>\n",
        "  </td>\n",
        "</table>"
      ]
    },
    {
      "cell_type": "markdown",
      "metadata": {
        "id": "ysy--KfNRrCq"
      },
      "source": [
        "You will use the Gemini API to classify what topics are relevant in the text."
      ]
    },
    {
      "cell_type": "code",
      "execution_count": 1,
      "metadata": {
        "id": "Ne-3gnXqR0hI"
      },
      "outputs": [
        {
          "name": "stdout",
          "output_type": "stream",
          "text": [
            "\u001b[2K     \u001b[90m━━━━━━━━━━━━━━━━━━━━━━━━━━━━━━━━━━━━━━━━\u001b[0m \u001b[32m158.8/158.8 kB\u001b[0m \u001b[31m1.2 MB/s\u001b[0m eta \u001b[36m0:00:00\u001b[0m\n",
            "\u001b[?25h"
          ]
        }
      ],
      "source": [
        "!pip install -U -q google-generativeai"
      ]
    },
    {
      "cell_type": "code",
      "execution_count": 2,
      "metadata": {
        "id": "EconMHePQHGw"
      },
      "outputs": [],
      "source": [
        "import google.generativeai as genai\n",
        "\n",
        "import json\n",
        "from IPython.display import Markdown\n",
        "from typing_extensions import TypedDict # in python 3.12 replace typing_extensions with typing"
      ]
    },
    {
      "cell_type": "markdown",
      "metadata": {
        "id": "eomJzCa6lb90"
      },
      "source": [
        "## Configure your API key\n",
        "\n",
        "To run the following cell, your API key must be stored it in a Colab Secret named `GOOGLE_API_KEY`. If you don't already have an API key, or you're not sure how to create a Colab Secret, see [Authentication](https://github.com/google-gemini/cookbook/blob/main/quickstarts/Authentication.ipynb) for an example."
      ]
    },
    {
      "cell_type": "code",
      "execution_count": 3,
      "metadata": {
        "id": "v-JZzORUpVR2"
      },
      "outputs": [],
      "source": [
        "from google.colab import userdata\n",
        "GOOGLE_API_KEY=userdata.get('GOOGLE_API_KEY')\n",
        "\n",
        "genai.configure(api_key=GOOGLE_API_KEY)"
      ]
    },
    {
      "cell_type": "markdown",
      "metadata": {
        "id": "kNE5XslpPpT0"
      },
      "source": [
        "## Example"
      ]
    },
    {
      "cell_type": "code",
      "execution_count": 4,
      "metadata": {
        "id": "d7vfQVmt9uUT"
      },
      "outputs": [
        {
          "data": {
            "text/markdown": [
              "## The Power of Sport: A Catalyst for Social Change\n",
              "\n",
              "Sports have long been a source of entertainment and inspiration, captivating audiences worldwide with their thrilling competitions and captivating narratives. But beyond the cheers and the victories, sports hold a profound power to drive social change. From promoting gender equality to fostering cross-cultural understanding, the impact of sports extends far beyond the playing field.\n",
              "\n",
              "One of the most significant ways sports can contribute to social change is by challenging societal norms and promoting inclusivity. The rise of female athletes in traditionally male-dominated sports has shattered stereotypes and empowered women to pursue their athletic dreams. Similarly, the increasing visibility of athletes from diverse backgrounds has helped to break down racial and cultural barriers, fostering a more inclusive and equitable society.\n",
              "\n",
              "Furthermore, sports can serve as a powerful tool for promoting peace and understanding. International sporting events, such as the Olympics, bring together athletes and spectators from all corners of the globe, fostering a sense of unity and shared humanity. These events can transcend political and cultural differences, creating a platform for dialogue and cooperation.\n",
              "\n",
              "However, the potential of sports to drive social change is not without its challenges. Issues such as discrimination, corruption, and the exploitation of athletes continue to plague the sporting world. It is crucial to address these issues head-on, ensuring that sports remain a force for good and a platform for positive change.\n",
              "\n",
              "In conclusion, sports hold immense potential to drive social change, promoting inclusivity, fostering peace, and challenging societal norms. By embracing the power of sports and addressing its challenges, we can harness its transformative potential to create a more just and equitable world. As we celebrate the triumphs and the struggles of athletes on the field, let us also recognize the profound impact they have on society as a whole. \n"
            ],
          "execution_count": 5,
          "metadata": {},
          "output_type": "execute_result"
        }
      ],
      "source": [
        "model = genai.GenerativeModel(model_name='gemini-1.5-flash-latest')\n",
        "response = model.generate_content(\"Generate a 5 paragraph article about Sports, include one other topic\")\n",
        "article = response.text\n",
        "Markdown(article)"
      ]
    },
    {
      "cell_type": "code",
      "execution_count": 6,
      "metadata": {
        "id": "704lXZcS9uUT"
      },
      "outputs": [],
      "source": [
        "prompt = f\"\"\"\n",
        "Generate topics from text, the topics should be general e.g. Health:\n",
        "Return a Topics.\n",
        "\n",
        "Follow this schema to generate JSON:\n",
        "\n",
        "class Topic(TypedDict):\n",
        "  topic: str # should be general\n",
        "  relevance: float\n",
        "\n",
        "class Topics(TypedDict):\n",
        "  topics: list[Topic]\n",
        "\n",
        "{article}\"\"\"\n",
        "response = model.generate_content(prompt, generation_config={\"response_mime_type\": \"application/json\"})"
      ]
    },
    {
      "cell_type": "code",
      "execution_count": 7,
      "metadata": {
        "id": "LMTjb4Gs9uUU"
      },
      "outputs": [
        {
          "name": "stdout",
          "output_type": "stream",
          "text": [
            "{\n",
            "    \"topics\": [\n",
            "            \"topic\": \"Gender Equality\",\n",
            "            \"relevance\": 0.6\n",
            "        },\n",
            "        {\n",
            "            \"topic\": \"Inclusivity\",\n",
            "            \"relevance\": 0.6\n",
            "        },\n",
            "        {\n",
            "            \"topic\": \"Peace\",\n",
            "            \"relevance\": 0.5\n",
            "        },\n",
            "        {\n",
            "            \"topic\": \"Cultural Understanding\",\n",
            "            \"relevance\": 0.5\n",
            "        },\n",
            "        {\n",
            "            \"topic\": \"Discrimination\",\n",
            "            \"relevance\": 0.4\n",
            "        },\n",
            "        {\n",
            "            \"topic\": \"Corruption\",\n",
            "            \"relevance\": 0.4\n",
            "        },\n",
            "        {\n",
            "            \"topic\": \"Exploitation\",\n",
            "            \"relevance\": 0.4\n",
            "            \"topic\": \"Health\",\n",
            "            \"relevance\": 0.6\n",
            "        },\n",
            "        {\n",
            "            \"topic\": \"Community\",\n",
            "            \"relevance\": 0.5\n",
            "        },\n",
            "        {\n",
            "            \"topic\": \"Social Impact\",\n",
            "            \"relevance\": 0.4\n",
            "        },\n",
            "        {\n",
            "            \"topic\": \"Peace and Conflict\",\n",
            "            \"relevance\": 0.3\n",
            "        }\n",
            "    ]\n",
            "}\n"
          ]
        }
      ],
      "source": [
        "print(json.dumps(json.loads(response.text), indent=4))"
      ]
    },
    {
      "cell_type": "markdown",
      "metadata": {
        "id": "l3XJbxtv1Htk"
      },
      "source": [
        "## Summary\n",
        "Now, you know how to classify text into different categories. Feel free to experiment with other texts, or provide a specific set of possible topics.\n",
        "\n",
        "Please see the other notebooks in this directory to learn more about how you can use the Gemini API for other JSON related tasks."
      ]
    }
  ],
  "metadata": {
    "colab": {
      "name": "Text_Classification.ipynb",
      "toc_visible": true
    },
    "kernelspec": {
      "display_name": "Python 3",
      "name": "python3"
    }
  },
  "nbformat": 4,
  "nbformat_minor": 0
}
